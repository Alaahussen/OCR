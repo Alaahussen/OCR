{
 "cells": [
  {
   "cell_type": "code",
   "execution_count": 1,
   "metadata": {},
   "outputs": [],
   "source": [
    "import pytesseract\n",
    "import cv2"
   ]
  },
  {
   "cell_type": "code",
   "execution_count": 4,
   "metadata": {},
   "outputs": [],
   "source": [
    "pytesseract.pytesseract.tesseract_cmd = r\"E:\\\\Tesseract-OCR\\\\tesseract.exe\"\n",
    "img=cv2.imread(\"sucess.jpg\")\n",
    "cv2.imshow(\"image\",img)\n",
    "cv2.waitKey(0)\n",
    "cv2.destroyAllWindows()\n"
   ]
  },
  {
   "cell_type": "code",
   "execution_count": 5,
   "metadata": {},
   "outputs": [],
   "source": [
    "result=pytesseract.image_to_string(img)"
   ]
  },
  {
   "cell_type": "code",
   "execution_count": 6,
   "metadata": {},
   "outputs": [
    {
     "name": "stdout",
     "output_type": "stream",
     "text": [
      "Success is not the key to\n",
      "happiness. Happiness is\n",
      "\n",
      "the key to success. If you\n",
      "\n",
      "love what you are doing,\n",
      "you will be successful.\n",
      "\n"
     ]
    }
   ],
   "source": [
    "#adds more image processing capabilities\n",
    "from PIL import Image, ImageEnhance# assigning an image from the source path\n",
    "img = Image.open(\"sucess.jpg\")# adding some sharpness and contrast to the image \n",
    "enhancer1 = ImageEnhance.Sharpness(img)\n",
    "enhancer2 = ImageEnhance.Contrast(img)\n",
    "img_edit = enhancer1.enhance(20.0)\n",
    "img_edit = enhancer2.enhance(1.5)# save the new image\n",
    "img_edit.save(\"edited_image.png\")# converts the image to result and saves it into result variable\n",
    "enhancer3 = ImageEnhance.Brightness(img_edit)\n",
    "img_edit=enhancer3.enhance(1.5)\n",
    "img_edit.save(\"edited_image.png\")\n",
    "result = pytesseract.image_to_string(img_edit)\n",
    "print(result)\n"
   ]
  },
  {
   "cell_type": "code",
   "execution_count": 7,
   "metadata": {},
   "outputs": [
    {
     "name": "stdout",
     "output_type": "stream",
     "text": [
      "النجاح ليس مفتاح\n",
      "سعادة. السعادة هي\n",
      "\n",
      "مفتاح النجاح. اذا أنت\n",
      "\n",
      "أحب ما تقومون به،\n",
      "سوف يكون ناجحا.\n"
     ]
    }
   ],
   "source": [
    "from deep_translator import GoogleTranslator\n",
    "text=GoogleTranslator(source='en', target='ar').translate(result)\n",
    "print(text)"
   ]
  },
  {
   "cell_type": "code",
   "execution_count": null,
   "metadata": {},
   "outputs": [],
   "source": []
  }
 ],
 "metadata": {
  "kernelspec": {
   "display_name": "Python 3",
   "language": "python",
   "name": "python3"
  },
  "language_info": {
   "codemirror_mode": {
    "name": "ipython",
    "version": 3
   },
   "file_extension": ".py",
   "mimetype": "text/x-python",
   "name": "python",
   "nbconvert_exporter": "python",
   "pygments_lexer": "ipython3",
   "version": "3.8.5"
  }
 },
 "nbformat": 4,
 "nbformat_minor": 4
}
